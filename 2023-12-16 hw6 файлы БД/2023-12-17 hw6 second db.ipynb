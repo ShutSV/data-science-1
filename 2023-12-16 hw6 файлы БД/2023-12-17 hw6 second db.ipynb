{
 "cells": [
  {
   "cell_type": "code",
   "execution_count": 1,
   "id": "fa5cc54b-6bfb-4a41-89a3-6ca5d157a129",
   "metadata": {},
   "outputs": [
    {
     "name": "stdout",
     "output_type": "stream",
     "text": [
      "Requirement already satisfied: psycopg2-binary in /usr/local/Cellar/jupyterlab/4.0.9_2/libexec/lib/python3.12/site-packages (2.9.9)\n"
     ]
    }
   ],
   "source": [
    "# Install a pip package in the current Jupyter kernel\n",
    "import sys\n",
    "!{sys.executable} -m pip install psycopg2-binary"
   ]
  },
  {
   "cell_type": "code",
   "execution_count": 2,
   "id": "2bcf87ea-8bbe-48ad-83b5-668b95aeeb74",
   "metadata": {},
   "outputs": [
    {
     "name": "stdout",
     "output_type": "stream",
     "text": [
      "\n",
      "Соединение с БД установлено <connection object at 0x104daa260; dsn: 'user=admin password=xxx dbname=admin host=0.0.0.0 port=5432', closed: 0> \n",
      "\n",
      "выполнен запрос к БД: 'create table if not exists users(\n",
      "            id serial primary key,\n",
      "            name varchar not null,\n",
      "            age int,\n",
      "            gender varchar,\n",
      "            nationality varchar);' \n",
      "\n",
      "Выполнен следующий запрос к БД: 'SELECT * FROM users'\n",
      "Результат запроса:  [(1, 'James', 25, 'male', 'USA'), (2, 'Leila', 32, 'female', 'France'), (3, 'Brigitte', 35, 'female', 'England'), (4, 'Mike', 40, 'male', 'Denmark'), (5, 'Elizabeth', 21, 'female', 'Canada'), (6, 'James', 25, 'male', 'USA'), (7, 'Leila', 32, 'female', 'France'), (8, 'Brigitte', 35, 'female', 'England'), (9, 'Mike', 40, 'male', 'Denmark'), (10, 'Elizabeth', 21, 'female', 'Canada'), (11, 'James', 25, 'male', 'USA'), (12, 'Leila', 32, 'female', 'France'), (13, 'Brigitte', 35, 'female', 'England'), (14, 'Mike', 40, 'male', 'Denmark'), (15, 'Elizabeth', 21, 'female', 'Canada'), (16, 'James', 25, 'male', 'USA'), (17, 'Leila', 32, 'female', 'France'), (18, 'Brigitte', 35, 'female', 'England'), (19, 'Mike', 40, 'male', 'Denmark'), (20, 'Elizabeth', 21, 'female', 'Canada')]\n",
      "выполнен запрос к БД: 'INSERT INTO users \n",
      "    (name, age, gender, nationality)\n",
      "    VALUES\n",
      "      ('James', 25, 'male', 'USA'),\n",
      "      ('Leila', 32, 'female', 'France'),\n",
      "      ('Brigitte', 35, 'female', 'England'),\n",
      "      ('Mike', 40, 'male', 'Denmark'),\n",
      "      ('Elizabeth', 21, 'female', 'Canada');' \n",
      "\n"
     ]
    },
    {
     "name": "stdin",
     "output_type": "stream",
     "text": [
      "Введите запрос SQL на создание/изменение БД:  \n"
     ]
    },
    {
     "name": "stdout",
     "output_type": "stream",
     "text": [
      "запрос в БД не выполнен: can't execute an empty query\n"
     ]
    },
    {
     "name": "stdin",
     "output_type": "stream",
     "text": [
      "Введите запрос SQL на получение данных из БД:  \n"
     ]
    },
    {
     "name": "stdout",
     "output_type": "stream",
     "text": [
      "запрос в БД не выполнен: can't execute an empty query\n",
      "программа завершена\n"
     ]
    }
   ],
   "source": [
    "from psycopg2 import connect as connect\n",
    "\n",
    "\n",
    "# функция проверки подключения к БД\n",
    "def _get_db_session():\n",
    "    try:\n",
    "        conn = connect(\n",
    "            dbname='admin',\n",
    "            user='admin',\n",
    "            password='admin',\n",
    "            host='0.0.0.0',\n",
    "            port=5432)\n",
    "        print(\"\\nСоединение с БД установлено\", conn, \"\\n\")\n",
    "        return conn\n",
    "    except Exception as e:\n",
    "        print('БД не доступна. Проверьте Docker', e)\n",
    "        return False\n",
    "\n",
    "\n",
    "# функция выполнения запроса к БД c получением ответа\n",
    "def query_get(conn, query: str) -> dict:\n",
    "    with conn.cursor() as curs:\n",
    "        curs.execute(query)\n",
    "        result = curs.fetchall()\n",
    "        return result\n",
    "\n",
    "\n",
    "# функция выполнения запроса к БД не предполагающая получения ответа\n",
    "def query_set(conn, query: str):\n",
    "    with conn.cursor() as curs:\n",
    "        curs.execute(query)\n",
    "        conn.commit()\n",
    "        print(f\"выполнен запрос к БД: '{query}' \\n\")\n",
    "\n",
    "\n",
    "# проверкв подключения к БД\n",
    "dbconnect = _get_db_session()\n",
    "if dbconnect is False:\n",
    "    print(\"БД не подключена. Программа завершена\")\n",
    "else:\n",
    "    conn = dbconnect\n",
    "\n",
    "    # # создание таблицы в БД (если не существует)\n",
    "    # query_create_table = \"\"\"create table if not exists books(\n",
    "    #     id int primary key,\n",
    "    #     title varchar(50) not null,\n",
    "    #     author varchar(50) not null,\n",
    "    #     price decimal(15,2),\n",
    "    #     edition smallint default 1 not null,\n",
    "    #     page_num smallint,\n",
    "    #     publish_year smallint,\n",
    "    #     creation_date timestamp);\"\"\"\n",
    "    # query_set(conn, query_create_table)\n",
    "\n",
    "    # создание таблицы users в БД (если не существует)\n",
    "    query_create_table = \"\"\"create table if not exists users(\n",
    "            id serial primary key,\n",
    "            name varchar not null,\n",
    "            age int,\n",
    "            gender varchar,\n",
    "            nationality varchar);\"\"\"\n",
    "    query_set(conn, query_create_table)\n",
    "\n",
    "    # получение всех записей из таблицы users\n",
    "    query_read_table = \"\"\"SELECT * FROM users\"\"\"\n",
    "    result_query = query_get(conn, query_read_table)\n",
    "    print(f\"Выполнен следующий запрос к БД: '{query_read_table}'\")\n",
    "    print(\"Результат запроса: \", result_query)\n",
    "\n",
    "    # добавление записей в таблицу users. Вариант №1\n",
    "    query_add_table = \"\"\"INSERT INTO users \n",
    "    (name, age, gender, nationality)\n",
    "    VALUES\n",
    "      ('James', 25, 'male', 'USA'),\n",
    "      ('Leila', 32, 'female', 'France'),\n",
    "      ('Brigitte', 35, 'female', 'England'),\n",
    "      ('Mike', 40, 'male', 'Denmark'),\n",
    "      ('Elizabeth', 21, 'female', 'Canada');\"\"\"\n",
    "    query_set(conn, query_add_table)\n",
    "\n",
    "\n",
    "    # выполнение произвольного запроса к БД на запись/изменение БД\n",
    "    query_save = input(\"Введите запрос SQL на создание/изменение БД: \")\n",
    "    try:\n",
    "        query_set(conn, query_save)\n",
    "    except Exception as e:\n",
    "        print(\"запрос в БД не выполнен:\", e)\n",
    "\n",
    "    # выполнение произвольного запроса на получение данных из БД\n",
    "    query_read = input(\"Введите запрос SQL на получение данных из БД: \")\n",
    "    try:\n",
    "        result = query_get(conn, query_read)\n",
    "        print(result)\n",
    "    except Exception as e:\n",
    "        print(\"запрос в БД не выполнен:\", e)\n",
    "\n",
    "    # закрытие подключения к БД\n",
    "    conn.close()\n",
    "    print(\"программа завершена\")\n"
   ]
  }
 ],
 "metadata": {
  "kernelspec": {
   "display_name": "Python 3 (ipykernel)",
   "language": "python",
   "name": "python3"
  },
  "language_info": {
   "codemirror_mode": {
    "name": "ipython",
    "version": 3
   },
   "file_extension": ".py",
   "mimetype": "text/x-python",
   "name": "python",
   "nbconvert_exporter": "python",
   "pygments_lexer": "ipython3",
   "version": "3.12.1"
  }
 },
 "nbformat": 4,
 "nbformat_minor": 5
}
