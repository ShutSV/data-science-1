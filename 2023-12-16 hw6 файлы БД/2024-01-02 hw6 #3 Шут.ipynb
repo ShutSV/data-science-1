{
 "cells": [
  {
   "cell_type": "raw",
   "id": "01e10072-6dfc-43b4-99e9-687f1ce94e8d",
   "metadata": {},
   "source": [
    "# на примере БД dvdrental"
   ]
  },
  {
   "cell_type": "code",
   "execution_count": 8,
   "id": "2e41d996-31c9-453a-81ce-f8a10126816a",
   "metadata": {},
   "outputs": [
    {
     "name": "stdout",
     "output_type": "stream",
     "text": [
      "Collecting psycopg2-binary\n",
      "  Downloading psycopg2_binary-2.9.9-cp311-cp311-macosx_11_0_arm64.whl.metadata (4.4 kB)\n",
      "Downloading psycopg2_binary-2.9.9-cp311-cp311-macosx_11_0_arm64.whl (2.6 MB)\n",
      "\u001b[2K   \u001b[90m━━━━━━━━━━━━━━━━━━━━━━━━━━━━━━━━━━━━━━━━\u001b[0m \u001b[32m2.6/2.6 MB\u001b[0m \u001b[31m7.8 MB/s\u001b[0m eta \u001b[36m0:00:00\u001b[0ma \u001b[36m0:00:01\u001b[0m\n",
      "\u001b[?25hInstalling collected packages: psycopg2-binary\n",
      "Successfully installed psycopg2-binary-2.9.9\n"
     ]
    }
   ],
   "source": [
    "import sys\n",
    "!{sys.executable} -m pip install psycopg2-binary"
   ]
  },
  {
   "cell_type": "code",
   "execution_count": 9,
   "id": "8f6ffd0c-a4e6-4d7b-a9b1-3afbf1bfc760",
   "metadata": {},
   "outputs": [],
   "source": [
    "from psycopg2 import connect as connect\n",
    "from datetime import datetime\n",
    "import numpy as np"
   ]
  },
  {
   "cell_type": "code",
   "execution_count": 31,
   "id": "a16f2ed4-7855-4dcc-89f3-3368e3853dbf",
   "metadata": {},
   "outputs": [
    {
     "name": "stdout",
     "output_type": "stream",
     "text": [
      "\n",
      "Соединение с БД установлено <connection object at 0x1075142e0; dsn: 'user=postgres password=xxx dbname=dvdrental host=0.0.0.0 port=5432', closed: 0> \n",
      "\n"
     ]
    }
   ],
   "source": [
    "try:\n",
    "    conn = connect(\n",
    "        dbname=\"dvdrental\", user=\"postgres\", password=\"postgres\", host=\"0.0.0.0\", port=5432\n",
    "    )\n",
    "    print(\"\\nСоединение с БД установлено\", conn, \"\\n\")\n",
    "except Exception as e:\n",
    "    print(\"БД не доступна. Проверьте Docker\", e)"
   ]
  },
  {
   "cell_type": "code",
   "execution_count": 11,
   "id": "b6494ea8-0473-4365-bd51-108810bdd1a6",
   "metadata": {},
   "outputs": [],
   "source": [
    "# определение функций для выполнения запросов к БД\n",
    "# получение данных\n",
    "def query_get(conn, query: str) -> dict:\n",
    "    with conn.cursor() as curs:\n",
    "        curs.execute(query)\n",
    "        result = curs.fetchall()\n",
    "        return result\n",
    "\n",
    "# передача данных\n",
    "def query_set(conn, query: str):\n",
    "    with conn.cursor() as curs:\n",
    "        curs.execute(query)\n",
    "        conn.commit()\n",
    "        print(f\"выполнен запрос к БД: '{query}' \\n\")\n",
    "\n",
    "# получение данных и их вывод на экран\n",
    "def query_n_print(conn, query_read: str):\n",
    "    print(\"\\n\", f\"Выполнен запрос к БД - '{query_read}'\", \":\\n\", \"-\" * 50)\n",
    "    result = query_get(conn, query_read)\n",
    "    for row in result:\n",
    "        print(row)"
   ]
  },
  {
   "cell_type": "raw",
   "id": "20f5cef9-aa53-4567-a6f1-3f803dc0a874",
   "metadata": {},
   "source": [
    "проверка БД на простых запросах типа query = \"\"\"select * from category\"\"\""
   ]
  },
  {
   "cell_type": "code",
   "execution_count": 12,
   "id": "7178f714-0875-493e-8cf2-5813891ee80d",
   "metadata": {},
   "outputs": [
    {
     "name": "stdout",
     "output_type": "stream",
     "text": [
      "\n",
      " Выполнен запрос к БД - 'select * from category limit 20' :\n",
      " --------------------------------------------------\n",
      "(1, 'Action', datetime.datetime(2006, 2, 15, 9, 46, 27))\n",
      "(2, 'Animation', datetime.datetime(2006, 2, 15, 9, 46, 27))\n",
      "(3, 'Children', datetime.datetime(2006, 2, 15, 9, 46, 27))\n",
      "(4, 'Classics', datetime.datetime(2006, 2, 15, 9, 46, 27))\n",
      "(5, 'Comedy', datetime.datetime(2006, 2, 15, 9, 46, 27))\n",
      "(6, 'Documentary', datetime.datetime(2006, 2, 15, 9, 46, 27))\n",
      "(7, 'Drama', datetime.datetime(2006, 2, 15, 9, 46, 27))\n",
      "(8, 'Family', datetime.datetime(2006, 2, 15, 9, 46, 27))\n",
      "(9, 'Foreign', datetime.datetime(2006, 2, 15, 9, 46, 27))\n",
      "(10, 'Games', datetime.datetime(2006, 2, 15, 9, 46, 27))\n",
      "(11, 'Horror', datetime.datetime(2006, 2, 15, 9, 46, 27))\n",
      "(12, 'Music', datetime.datetime(2006, 2, 15, 9, 46, 27))\n",
      "(13, 'New', datetime.datetime(2006, 2, 15, 9, 46, 27))\n",
      "(14, 'Sci-Fi', datetime.datetime(2006, 2, 15, 9, 46, 27))\n",
      "(15, 'Sports', datetime.datetime(2006, 2, 15, 9, 46, 27))\n",
      "(16, 'Travel', datetime.datetime(2006, 2, 15, 9, 46, 27))\n",
      "\n",
      " Выполнен запрос к БД - 'select * from film_category limit 20' :\n",
      " --------------------------------------------------\n",
      "(1, 6, datetime.datetime(2006, 2, 15, 10, 7, 9))\n",
      "(2, 11, datetime.datetime(2006, 2, 15, 10, 7, 9))\n",
      "(3, 6, datetime.datetime(2006, 2, 15, 10, 7, 9))\n",
      "(4, 11, datetime.datetime(2006, 2, 15, 10, 7, 9))\n",
      "(5, 8, datetime.datetime(2006, 2, 15, 10, 7, 9))\n",
      "(6, 9, datetime.datetime(2006, 2, 15, 10, 7, 9))\n",
      "(7, 5, datetime.datetime(2006, 2, 15, 10, 7, 9))\n",
      "(8, 11, datetime.datetime(2006, 2, 15, 10, 7, 9))\n",
      "(9, 11, datetime.datetime(2006, 2, 15, 10, 7, 9))\n",
      "(10, 15, datetime.datetime(2006, 2, 15, 10, 7, 9))\n",
      "(11, 9, datetime.datetime(2006, 2, 15, 10, 7, 9))\n",
      "(12, 12, datetime.datetime(2006, 2, 15, 10, 7, 9))\n",
      "(13, 11, datetime.datetime(2006, 2, 15, 10, 7, 9))\n",
      "(14, 4, datetime.datetime(2006, 2, 15, 10, 7, 9))\n",
      "(15, 9, datetime.datetime(2006, 2, 15, 10, 7, 9))\n",
      "(16, 9, datetime.datetime(2006, 2, 15, 10, 7, 9))\n",
      "(17, 12, datetime.datetime(2006, 2, 15, 10, 7, 9))\n",
      "(18, 2, datetime.datetime(2006, 2, 15, 10, 7, 9))\n",
      "(19, 1, datetime.datetime(2006, 2, 15, 10, 7, 9))\n",
      "(20, 12, datetime.datetime(2006, 2, 15, 10, 7, 9))\n",
      "\n",
      " Выполнен запрос к БД - 'select * from customer where first_name = 'John'' :\n",
      " --------------------------------------------------\n",
      "(300, 1, 'John', 'Farnsworth', 'john.farnsworth@sakilacustomer.org', 305, True, datetime.date(2006, 2, 14), datetime.datetime(2013, 5, 26, 14, 49, 45, 738000), 1)\n"
     ]
    }
   ],
   "source": [
    "query_n_print(conn, \"\"\"select * from category limit 20\"\"\")\n",
    "query_n_print(conn, \"\"\"select * from film_category limit 20\"\"\")\n",
    "query_n_print(conn, \"\"\"select * from customer where first_name = 'John'\"\"\")"
   ]
  },
  {
   "cell_type": "raw",
   "id": "35016709-7e60-4e33-a3b4-1bc6fc0016c3",
   "metadata": {},
   "source": [
    "JOIN-операции для объединения данных из двух таблиц."
   ]
  },
  {
   "cell_type": "code",
   "execution_count": 13,
   "id": "fd6f7913-2a52-44fd-9417-21917a2dc114",
   "metadata": {},
   "outputs": [
    {
     "name": "stdout",
     "output_type": "stream",
     "text": [
      "\n",
      " Выполнен запрос к БД - 'SELECT\n",
      "    c.category_id id_cat_cat,\n",
      "    c.name name_cat,\n",
      "    f.film_id id_film,\n",
      "    f.category_id id_cat_film\n",
      "FROM\n",
      "    category c\n",
      "INNER JOIN film_category f ON c.category_id = f.category_id\n",
      "ORDER BY id_film\n",
      "LIMIT 50 OFFSET 50' :\n",
      " --------------------------------------------------\n",
      "(12, 'Music', 51, 12)\n",
      "(9, 'Foreign', 52, 9)\n",
      "(8, 'Family', 53, 8)\n",
      "(12, 'Music', 54, 12)\n",
      "(14, 'Sci-Fi', 55, 14)\n",
      "(1, 'Action', 56, 1)\n",
      "(16, 'Travel', 57, 16)\n",
      "(6, 'Documentary', 58, 6)\n",
      "(3, 'Children', 59, 3)\n",
      "(4, 'Classics', 60, 4)\n",
      "(7, 'Drama', 61, 7)\n",
      "(6, 'Documentary', 62, 6)\n",
      "(8, 'Family', 63, 8)\n",
      "(7, 'Drama', 64, 7)\n",
      "(11, 'Horror', 65, 11)\n",
      "(3, 'Children', 66, 3)\n",
      "(1, 'Action', 67, 1)\n",
      "(3, 'Children', 68, 3)\n",
      "(14, 'Sci-Fi', 69, 14)\n",
      "(2, 'Animation', 70, 2)\n",
      "(8, 'Family', 71, 8)\n",
      "(6, 'Documentary', 72, 6)\n",
      "(14, 'Sci-Fi', 73, 14)\n",
      "(12, 'Music', 74, 12)\n",
      "(16, 'Travel', 75, 16)\n",
      "(12, 'Music', 76, 12)\n",
      "(13, 'New', 77, 13)\n",
      "(2, 'Animation', 78, 2)\n",
      "(7, 'Drama', 79, 7)\n",
      "(8, 'Family', 80, 8)\n",
      "(14, 'Sci-Fi', 81, 14)\n",
      "(8, 'Family', 82, 8)\n",
      "(8, 'Family', 83, 8)\n",
      "(16, 'Travel', 84, 16)\n",
      "(6, 'Documentary', 85, 6)\n",
      "(12, 'Music', 86, 12)\n",
      "(16, 'Travel', 87, 16)\n",
      "(16, 'Travel', 88, 16)\n",
      "(2, 'Animation', 89, 2)\n",
      "(13, 'New', 90, 13)\n",
      "(4, 'Classics', 91, 4)\n",
      "(11, 'Horror', 92, 11)\n",
      "(13, 'New', 93, 13)\n",
      "(8, 'Family', 94, 8)\n",
      "(13, 'New', 95, 13)\n",
      "(13, 'New', 96, 13)\n",
      "(1, 'Action', 97, 1)\n",
      "(7, 'Drama', 98, 7)\n",
      "(5, 'Comedy', 99, 5)\n",
      "(9, 'Foreign', 100, 9)\n"
     ]
    }
   ],
   "source": [
    "# Объединение двух таблиц по полю \"category_id\", с выводом только тех строк, которые совпадают в обеих таблицах\n",
    "query = \"\"\"SELECT\n",
    "    c.category_id id_cat_cat,\n",
    "    c.name name_cat,\n",
    "    f.film_id id_film,\n",
    "    f.category_id id_cat_film\n",
    "FROM\n",
    "    category c\n",
    "INNER JOIN film_category f ON c.category_id = f.category_id\n",
    "ORDER BY id_film\n",
    "LIMIT 50 OFFSET 50\"\"\"\n",
    "query_n_print(conn, query)"
   ]
  },
  {
   "cell_type": "code",
   "execution_count": 14,
   "id": "1e06ce84-df8c-497a-90e7-64e21b7b44bf",
   "metadata": {},
   "outputs": [
    {
     "name": "stdout",
     "output_type": "stream",
     "text": [
      "\n",
      " Выполнен запрос к БД - 'SELECT\n",
      "    c.category_id id_cat_cat,\n",
      "    c.name name_cat,\n",
      "    f.film_id id_film,\n",
      "    f.category_id id_cat_film\n",
      "FROM\n",
      "    category c\n",
      "LEFT JOIN film_category f ON c.category_id = f.category_id\n",
      "ORDER BY id_cat_cat\n",
      "LIMIT 20' :\n",
      " --------------------------------------------------\n",
      "(1, 'Action', 19, 1)\n",
      "(1, 'Action', 21, 1)\n",
      "(1, 'Action', 29, 1)\n",
      "(1, 'Action', 38, 1)\n",
      "(1, 'Action', 56, 1)\n",
      "(1, 'Action', 67, 1)\n",
      "(1, 'Action', 97, 1)\n",
      "(1, 'Action', 105, 1)\n",
      "(1, 'Action', 111, 1)\n",
      "(1, 'Action', 115, 1)\n",
      "(1, 'Action', 126, 1)\n",
      "(1, 'Action', 130, 1)\n",
      "(1, 'Action', 162, 1)\n",
      "(1, 'Action', 194, 1)\n",
      "(1, 'Action', 205, 1)\n",
      "(1, 'Action', 210, 1)\n",
      "(1, 'Action', 212, 1)\n",
      "(1, 'Action', 229, 1)\n",
      "(1, 'Action', 250, 1)\n",
      "(1, 'Action', 252, 1)\n"
     ]
    }
   ],
   "source": [
    "# Объединение двух таблиц по полю \"category_id\", с выводом всех строк из таблицы category (первой в формуле, т.е. LEFT),\n",
    "# и тех строк из таблицы film_category, в которых есть совпадения по полю \"category_id\"\n",
    "query = \"\"\"SELECT\n",
    "    c.category_id id_cat_cat,\n",
    "    c.name name_cat,\n",
    "    f.film_id id_film,\n",
    "    f.category_id id_cat_film\n",
    "FROM\n",
    "    category c\n",
    "LEFT JOIN film_category f ON c.category_id = f.category_id\n",
    "ORDER BY id_cat_cat\n",
    "LIMIT 20\"\"\"\n",
    "query_n_print(conn, query)"
   ]
  },
  {
   "cell_type": "code",
   "execution_count": 15,
   "id": "c0514265-e4d5-44b0-9d30-65a88087ec70",
   "metadata": {},
   "outputs": [
    {
     "name": "stdout",
     "output_type": "stream",
     "text": [
      "\n",
      " Выполнен запрос к БД - 'SELECT\n",
      "    c.category_id id_cat_cat,\n",
      "    c.name name_cat,\n",
      "    f.film_id id_film,\n",
      "    f.category_id id_cat_film\n",
      "FROM\n",
      "    category c\n",
      "LEFT JOIN film_category f ON c.category_id = f.category_id\n",
      "WHERE f.film_id is NULL\n",
      "' :\n",
      " --------------------------------------------------\n"
     ]
    }
   ],
   "source": [
    "# Объединение двух таблиц по полю \"category_id\", с выводом всех строк из таблицы category (первой в формуле, т.е. LEFT),\n",
    "# которых нет в таблице film_category, т.е. не имеющих совпадений по полю \"category_id\"\n",
    "query = \"\"\"SELECT\n",
    "    c.category_id id_cat_cat,\n",
    "    c.name name_cat,\n",
    "    f.film_id id_film,\n",
    "    f.category_id id_cat_film\n",
    "FROM\n",
    "    category c\n",
    "LEFT JOIN film_category f ON c.category_id = f.category_id\n",
    "WHERE f.film_id is NULL\n",
    "\"\"\"\n",
    "query_n_print(conn, query)"
   ]
  },
  {
   "cell_type": "code",
   "execution_count": 25,
   "id": "664678b8-160c-4725-abbc-5cbc3f607a8b",
   "metadata": {},
   "outputs": [
    {
     "name": "stdout",
     "output_type": "stream",
     "text": [
      "\n",
      " Выполнен запрос к БД - 'SELECT\n",
      "    c.category_id id_cat_cat,\n",
      "    c.name name_cat,\n",
      "    f.film_id id_film,\n",
      "    f.category_id id_cat_film\n",
      "FROM\n",
      "    category c\n",
      "FULL OUTER JOIN film_category f ON c.category_id = f.category_id\n",
      "LIMIT 50\n",
      "' :\n",
      " --------------------------------------------------\n",
      "(6, 'Documentary', 1, 6)\n",
      "(11, 'Horror', 2, 11)\n",
      "(6, 'Documentary', 3, 6)\n",
      "(11, 'Horror', 4, 11)\n",
      "(8, 'Family', 5, 8)\n",
      "(9, 'Foreign', 6, 9)\n",
      "(5, 'Comedy', 7, 5)\n",
      "(11, 'Horror', 8, 11)\n",
      "(11, 'Horror', 9, 11)\n",
      "(15, 'Sports', 10, 15)\n",
      "(9, 'Foreign', 11, 9)\n",
      "(12, 'Music', 12, 12)\n",
      "(11, 'Horror', 13, 11)\n",
      "(4, 'Classics', 14, 4)\n",
      "(9, 'Foreign', 15, 9)\n",
      "(9, 'Foreign', 16, 9)\n",
      "(12, 'Music', 17, 12)\n",
      "(2, 'Animation', 18, 2)\n",
      "(1, 'Action', 19, 1)\n",
      "(12, 'Music', 20, 12)\n",
      "(1, 'Action', 21, 1)\n",
      "(13, 'New', 22, 13)\n",
      "(2, 'Animation', 23, 2)\n",
      "(11, 'Horror', 24, 11)\n",
      "(13, 'New', 25, 13)\n",
      "(14, 'Sci-Fi', 26, 14)\n",
      "(15, 'Sports', 27, 15)\n",
      "(5, 'Comedy', 28, 5)\n",
      "(1, 'Action', 29, 1)\n",
      "(11, 'Horror', 30, 11)\n",
      "(8, 'Family', 31, 8)\n",
      "(13, 'New', 32, 13)\n",
      "(7, 'Drama', 33, 7)\n",
      "(11, 'Horror', 34, 11)\n",
      "(11, 'Horror', 35, 11)\n",
      "(2, 'Animation', 36, 2)\n",
      "(4, 'Classics', 37, 4)\n",
      "(1, 'Action', 38, 1)\n",
      "(14, 'Sci-Fi', 39, 14)\n",
      "(6, 'Documentary', 40, 6)\n",
      "(16, 'Travel', 41, 16)\n",
      "(15, 'Sports', 42, 15)\n",
      "(8, 'Family', 43, 8)\n",
      "(14, 'Sci-Fi', 44, 14)\n",
      "(13, 'New', 45, 13)\n",
      "(10, 'Games', 46, 10)\n",
      "(9, 'Foreign', 47, 9)\n",
      "(3, 'Children', 48, 3)\n",
      "(14, 'Sci-Fi', 49, 14)\n",
      "(8, 'Family', 50, 8)\n"
     ]
    }
   ],
   "source": [
    "# Полное объединение двух таблиц по полю \"category_id\", с выводом всех строк обеих таблиц. При отсутствии совпадений\n",
    "# поля заполняются значениями NULL\n",
    "# в формуле необязательно использование ключевого слова OUTER\n",
    "query = \"\"\"SELECT\n",
    "    c.category_id id_cat_cat,\n",
    "    c.name name_cat,\n",
    "    f.film_id id_film,\n",
    "    f.category_id id_cat_film\n",
    "FROM\n",
    "    category c\n",
    "FULL OUTER JOIN film_category f ON c.category_id = f.category_id\n",
    "LIMIT 50\n",
    "\"\"\"\n",
    "query_n_print(conn, query)"
   ]
  },
  {
   "cell_type": "code",
   "execution_count": 17,
   "id": "6d90361b-2e00-440d-bc15-771079d30618",
   "metadata": {},
   "outputs": [
    {
     "name": "stdout",
     "output_type": "stream",
     "text": [
      "\n",
      " Выполнен запрос к БД - 'SELECT\n",
      "    c.category_id id_cat_cat,\n",
      "    c.name name_cat,\n",
      "    f.film_id id_film,\n",
      "    f.category_id id_cat_film\n",
      "FROM\n",
      "    category c\n",
      "FULL JOIN film_category f ON c.category_id = f.category_id\n",
      "WHERE c.category_id is NULL OR f.category_id is NULL\n",
      "' :\n",
      " --------------------------------------------------\n"
     ]
    }
   ],
   "source": [
    "# Вывод уникальных строк двух таблиц, т.е. только тех строк двух таблиц,\n",
    "# которые не имеют совпадений по полю \"category_id\"\n",
    "# в формуле не используется ключевое слова OUTER\n",
    "query = \"\"\"SELECT\n",
    "    c.category_id id_cat_cat,\n",
    "    c.name name_cat,\n",
    "    f.film_id id_film,\n",
    "    f.category_id id_cat_film\n",
    "FROM\n",
    "    category c\n",
    "FULL JOIN film_category f ON c.category_id = f.category_id\n",
    "WHERE c.category_id is NULL OR f.category_id is NULL\n",
    "\"\"\"\n",
    "query_n_print(conn, query)"
   ]
  },
  {
   "cell_type": "code",
   "execution_count": 26,
   "id": "d21b8158-17a8-488f-a5cd-51a51b9a3644",
   "metadata": {},
   "outputs": [
    {
     "name": "stdout",
     "output_type": "stream",
     "text": [
      "\n",
      " Выполнен запрос к БД - 'SELECT\n",
      "    i.film_id id_film_inventory,\n",
      "    i.store_id id_store_inventory,\n",
      "    f.title title_film,\n",
      "    fc.category_id id_cat_film\n",
      "FROM\n",
      "    film f\n",
      "INNER JOIN film_category fc ON f.film_id = fc.film_id\n",
      "INNER JOIN inventory i ON fc.film_id = i.film_id\n",
      "LIMIT 50' :\n",
      " --------------------------------------------------\n",
      "(1, 1, 'Academy Dinosaur', 6)\n",
      "(1, 1, 'Academy Dinosaur', 6)\n",
      "(1, 1, 'Academy Dinosaur', 6)\n",
      "(1, 1, 'Academy Dinosaur', 6)\n",
      "(1, 2, 'Academy Dinosaur', 6)\n",
      "(1, 2, 'Academy Dinosaur', 6)\n",
      "(1, 2, 'Academy Dinosaur', 6)\n",
      "(1, 2, 'Academy Dinosaur', 6)\n",
      "(2, 2, 'Ace Goldfinger', 11)\n",
      "(2, 2, 'Ace Goldfinger', 11)\n",
      "(2, 2, 'Ace Goldfinger', 11)\n",
      "(3, 2, 'Adaptation Holes', 6)\n",
      "(3, 2, 'Adaptation Holes', 6)\n",
      "(3, 2, 'Adaptation Holes', 6)\n",
      "(3, 2, 'Adaptation Holes', 6)\n",
      "(4, 1, 'Affair Prejudice', 11)\n",
      "(4, 1, 'Affair Prejudice', 11)\n",
      "(4, 1, 'Affair Prejudice', 11)\n",
      "(4, 1, 'Affair Prejudice', 11)\n",
      "(4, 2, 'Affair Prejudice', 11)\n",
      "(4, 2, 'Affair Prejudice', 11)\n",
      "(4, 2, 'Affair Prejudice', 11)\n",
      "(5, 2, 'African Egg', 8)\n",
      "(5, 2, 'African Egg', 8)\n",
      "(5, 2, 'African Egg', 8)\n",
      "(6, 1, 'Agent Truman', 9)\n",
      "(6, 1, 'Agent Truman', 9)\n",
      "(6, 1, 'Agent Truman', 9)\n",
      "(6, 2, 'Agent Truman', 9)\n",
      "(6, 2, 'Agent Truman', 9)\n",
      "(6, 2, 'Agent Truman', 9)\n",
      "(7, 1, 'Airplane Sierra', 5)\n",
      "(7, 1, 'Airplane Sierra', 5)\n",
      "(7, 2, 'Airplane Sierra', 5)\n",
      "(7, 2, 'Airplane Sierra', 5)\n",
      "(7, 2, 'Airplane Sierra', 5)\n",
      "(8, 2, 'Airport Pollock', 11)\n",
      "(8, 2, 'Airport Pollock', 11)\n",
      "(8, 2, 'Airport Pollock', 11)\n",
      "(8, 2, 'Airport Pollock', 11)\n",
      "(9, 1, 'Alabama Devil', 11)\n",
      "(9, 1, 'Alabama Devil', 11)\n",
      "(9, 1, 'Alabama Devil', 11)\n",
      "(9, 2, 'Alabama Devil', 11)\n",
      "(9, 2, 'Alabama Devil', 11)\n",
      "(10, 1, 'Aladdin Calendar', 15)\n",
      "(10, 1, 'Aladdin Calendar', 15)\n",
      "(10, 1, 'Aladdin Calendar', 15)\n",
      "(10, 1, 'Aladdin Calendar', 15)\n",
      "(10, 2, 'Aladdin Calendar', 15)\n"
     ]
    }
   ],
   "source": [
    "# Объединение ТРЕХ таблиц по полю \"film_id\" (поле есть во всех таблицах)\n",
    "# с выводом только тех строк, которые совпадают во всех таблицах\n",
    "query = \"\"\"SELECT\n",
    "    i.film_id id_film_inventory,\n",
    "    i.store_id id_store_inventory,\n",
    "    f.title title_film,\n",
    "    fc.category_id id_cat_film\n",
    "FROM\n",
    "    film f\n",
    "INNER JOIN film_category fc ON f.film_id = fc.film_id\n",
    "INNER JOIN inventory i ON fc.film_id = i.film_id\n",
    "LIMIT 50\"\"\"\n",
    "query_n_print(conn, query)"
   ]
  },
  {
   "cell_type": "raw",
   "id": "881f405c-9fd2-4956-ac65-4cef072a40de",
   "metadata": {},
   "source": [
    "Создание индекса на одной из таблиц и измерение производительности запроса до и после создания индекса.\n",
    "--- измерять производительность лучше поочередно до и после создания индекса во избежания влияния кэширования\n",
    "Сперва проверка времени запроса c индексом, Добавление индекса на столбец \"length\"\n",
    "затем - после удаления индекса"
   ]
  },
  {
   "cell_type": "code",
   "execution_count": 19,
   "id": "d6fd32b6-3ae3-4a04-ad0a-6b4fb7d9902d",
   "metadata": {},
   "outputs": [
    {
     "name": "stdout",
     "output_type": "stream",
     "text": [
      "выполнен запрос к БД: 'CREATE INDEX IF NOT EXISTS index_length ON film (length)' \n",
      "\n",
      "выполнен запрос к БД: 'DROP INDEX IF EXISTS index_length' \n",
      "\n",
      "\n",
      "Среднее время 10000 запросов без индекса = 0:00:00.000202 \n",
      "Среднее время 10000 запросов c индексом = 0:00:00.000156\n"
     ]
    }
   ],
   "source": [
    "# пакетная проверка времени запросов, перемежаемых иными\n",
    "query_set(conn, \"\"\"CREATE INDEX IF NOT EXISTS index_length ON film (length)\"\"\")\n",
    "time_with_index_array = np.array([])\n",
    "\n",
    "for i in range(100):\n",
    "    for j in range(100):\n",
    "        start_time = datetime.now()\n",
    "        query_get(conn, f\"\"\"SELECT * FROM film WHERE length = {80 + j}\"\"\")\n",
    "        stop_time = datetime.now()\n",
    "        time_with_index_array = np.append(\n",
    "            time_with_index_array,\n",
    "            [stop_time - start_time],\n",
    "        )\n",
    "        query_get(conn, f\"\"\"SELECT * FROM film LIMIT {1 + j}\"\"\")\n",
    "\n",
    "query_set(conn, \"\"\"DROP INDEX IF EXISTS index_length\"\"\")\n",
    "time_witout_index_array = np.array([])\n",
    "\n",
    "for i in range(100):\n",
    "    for j in range(100):\n",
    "        start_time = datetime.now()\n",
    "        query_get(conn, f\"\"\"SELECT * FROM film WHERE length = {80 + j}\"\"\")\n",
    "        stop_time = datetime.now()\n",
    "        time_witout_index_array = np.append(\n",
    "            time_witout_index_array,\n",
    "            [stop_time - start_time],\n",
    "        )\n",
    "        query_get(conn, f\"\"\"SELECT * FROM film LIMIT {1 + j}\"\"\")\n",
    "\n",
    "print(\n",
    "    f\"\\nСреднее время {len(time_witout_index_array)} запросов без индекса = {time_witout_index_array.mean()}\",\n",
    "    f\"\\nСреднее время {len(time_with_index_array)} запросов c индексом = {time_with_index_array.mean()}\",\n",
    ")"
   ]
  },
  {
   "cell_type": "raw",
   "id": "ed1246d0-9a8e-4487-95da-9275e71c6f22",
   "metadata": {},
   "source": [
    "SQL-запросы с использованием оконных функций (window functions) для анализа данных внутри окна."
   ]
  },
  {
   "cell_type": "code",
   "execution_count": 27,
   "id": "dbbf5f35-32c8-45f3-aba4-5d3d640ce891",
   "metadata": {},
   "outputs": [
    {
     "name": "stdout",
     "output_type": "stream",
     "text": [
      "выполнен запрос к БД: '\n",
      "CREATE OR REPLACE VIEW viewname003 AS\n",
      "SELECT title, release_year, rental_rate, length, rating\n",
      "FROM film\n",
      "WHERE length >= 180' \n",
      "\n",
      "\n",
      " Выполнен запрос к БД - '\n",
      "SELECT * \n",
      "FROM viewname003\n",
      "' :\n",
      " --------------------------------------------------\n",
      "('Alley Evolution', 2006, Decimal('2.99'), 180, 'NC-17')\n",
      "('Analyze Hoosiers', 2006, Decimal('2.99'), 181, 'R')\n",
      "('Baked Cleopatra', 2006, Decimal('2.99'), 182, 'G')\n",
      "('Catch Amistad', 2006, Decimal('0.99'), 183, 'G')\n",
      "('Chicago North', 2006, Decimal('4.99'), 185, 'PG-13')\n",
      "('Confidential Interview', 2006, Decimal('4.99'), 180, 'NC-17')\n",
      "('Conspiracy Spirit', 2006, Decimal('2.99'), 184, 'PG-13')\n",
      "('Control Anthem', 2006, Decimal('4.99'), 185, 'G')\n",
      "('Crystal Breaking', 2006, Decimal('2.99'), 184, 'NC-17')\n",
      "('Darn Forrester', 2006, Decimal('4.99'), 185, 'G')\n",
      "('Frontier Cabin', 2006, Decimal('4.99'), 183, 'PG-13')\n",
      "('Gangs Pride', 2006, Decimal('2.99'), 185, 'PG-13')\n",
      "('Haunting Pianist', 2006, Decimal('0.99'), 181, 'R')\n",
      "('Home Pity', 2006, Decimal('4.99'), 185, 'R')\n",
      "('Hotel Happiness', 2006, Decimal('4.99'), 181, 'PG-13')\n",
      "('Impact Aladdin', 2006, Decimal('0.99'), 180, 'PG-13')\n",
      "('Intrigue Worst', 2006, Decimal('0.99'), 181, 'G')\n",
      "('Jacket Frisco', 2006, Decimal('2.99'), 181, 'PG-13')\n",
      "('King Evolution', 2006, Decimal('4.99'), 184, 'NC-17')\n",
      "('Lawless Vision', 2006, Decimal('4.99'), 181, 'G')\n",
      "('Love Suicides', 2006, Decimal('0.99'), 181, 'R')\n",
      "('Mixed Doors', 2006, Decimal('2.99'), 180, 'PG-13')\n",
      "('Monsoon Cause', 2006, Decimal('4.99'), 182, 'PG')\n",
      "('Moonwalker Fool', 2006, Decimal('4.99'), 184, 'G')\n",
      "('Muscle Bright', 2006, Decimal('2.99'), 185, 'G')\n",
      "('Mussolini Spoilers', 2006, Decimal('2.99'), 180, 'G')\n",
      "('Nash Chocolat', 2006, Decimal('2.99'), 180, 'PG-13')\n",
      "('Pond Seattle', 2006, Decimal('2.99'), 185, 'PG-13')\n",
      "('Records Zorro', 2006, Decimal('4.99'), 182, 'PG')\n",
      "('Reds Pocus', 2006, Decimal('4.99'), 182, 'PG-13')\n",
      "('Runaway Tenenbaums', 2006, Decimal('0.99'), 181, 'NC-17')\n",
      "('Saturn Name', 2006, Decimal('4.99'), 182, 'R')\n",
      "('Scalawag Duck', 2006, Decimal('4.99'), 183, 'NC-17')\n",
      "('Searchers Wait', 2006, Decimal('2.99'), 182, 'NC-17')\n",
      "('Smoochy Control', 2006, Decimal('0.99'), 184, 'R')\n",
      "('Soldiers Evolution', 2006, Decimal('4.99'), 185, 'R')\n",
      "('Something Duck', 2006, Decimal('4.99'), 180, 'NC-17')\n",
      "('Sons Interview', 2006, Decimal('2.99'), 184, 'NC-17')\n",
      "('Sorority Queen', 2006, Decimal('0.99'), 184, 'NC-17')\n",
      "('Star Operation', 2006, Decimal('2.99'), 181, 'PG')\n",
      "('Sweet Brotherhood', 2006, Decimal('2.99'), 185, 'R')\n",
      "('Theory Mermaid', 2006, Decimal('0.99'), 184, 'PG-13')\n",
      "('Wife Turn', 2006, Decimal('4.99'), 183, 'NC-17')\n",
      "('Wild Apollo', 2006, Decimal('0.99'), 181, 'R')\n",
      "('Worst Banger', 2006, Decimal('2.99'), 185, 'PG')\n",
      "('Young Language', 2006, Decimal('0.99'), 183, 'G')\n",
      "\n",
      " Выполнен запрос к БД - '\n",
      "SELECT * \n",
      "FROM viewname003\n",
      "ORDER BY rental_rate DESC LIMIT 10' :\n",
      " --------------------------------------------------\n",
      "('Hotel Happiness', 2006, Decimal('4.99'), 181, 'PG-13')\n",
      "('Lawless Vision', 2006, Decimal('4.99'), 181, 'G')\n",
      "('Home Pity', 2006, Decimal('4.99'), 185, 'R')\n",
      "('Chicago North', 2006, Decimal('4.99'), 185, 'PG-13')\n",
      "('Confidential Interview', 2006, Decimal('4.99'), 180, 'NC-17')\n",
      "('King Evolution', 2006, Decimal('4.99'), 184, 'NC-17')\n",
      "('Control Anthem', 2006, Decimal('4.99'), 185, 'G')\n",
      "('Frontier Cabin', 2006, Decimal('4.99'), 183, 'PG-13')\n",
      "('Darn Forrester', 2006, Decimal('4.99'), 185, 'G')\n",
      "('Monsoon Cause', 2006, Decimal('4.99'), 182, 'PG')\n"
     ]
    }
   ],
   "source": [
    "# Создание представления в виде таблицы БД\n",
    "query = \"\"\"\n",
    "CREATE OR REPLACE VIEW viewname003 AS\n",
    "SELECT title, release_year, rental_rate, length, rating\n",
    "FROM film\n",
    "WHERE length >= 180\"\"\"\n",
    "query_set(conn, query)\n",
    "\n",
    "# Вывод представления в виде таблицы БД\n",
    "query = \"\"\"\n",
    "SELECT * \n",
    "FROM viewname003\n",
    "\"\"\"\n",
    "query_n_print(conn, query)\n",
    "\n",
    "# Вывод первых 10 строу таблицы-представления, отсортированной по полю rental_rate\n",
    "query = \"\"\"\n",
    "SELECT * \n",
    "FROM viewname003\n",
    "ORDER BY rental_rate DESC LIMIT 10\"\"\"\n",
    "query_n_print(conn, query)"
   ]
  },
  {
   "cell_type": "code",
   "execution_count": 28,
   "id": "43c59333-d22b-4684-8691-8612b30fc407",
   "metadata": {},
   "outputs": [
    {
     "name": "stdout",
     "output_type": "stream",
     "text": [
      "\n",
      " Выполнен запрос к БД - '\n",
      "SELECT * \n",
      "FROM viewname003\n",
      "WHERE release_year < 2007\n",
      "ORDER BY title DESC LIMIT 10' :\n",
      " --------------------------------------------------\n",
      "('Young Language', 2006, Decimal('0.99'), 183, 'G')\n",
      "('Worst Banger', 2006, Decimal('2.99'), 185, 'PG')\n",
      "('Wild Apollo', 2006, Decimal('0.99'), 181, 'R')\n",
      "('Wife Turn', 2006, Decimal('4.99'), 183, 'NC-17')\n",
      "('Theory Mermaid', 2006, Decimal('0.99'), 184, 'PG-13')\n",
      "('Sweet Brotherhood', 2006, Decimal('2.99'), 185, 'R')\n",
      "('Star Operation', 2006, Decimal('2.99'), 181, 'PG')\n",
      "('Sorority Queen', 2006, Decimal('0.99'), 184, 'NC-17')\n",
      "('Sons Interview', 2006, Decimal('2.99'), 184, 'NC-17')\n",
      "('Something Duck', 2006, Decimal('4.99'), 180, 'NC-17')\n"
     ]
    }
   ],
   "source": [
    "# Общая продолжительность фильмов, старше 2007 года по алфавиту, первые 10 строк\n",
    "query = \"\"\"\n",
    "SELECT * \n",
    "FROM viewname003\n",
    "WHERE release_year < 2007\n",
    "ORDER BY title DESC LIMIT 10\"\"\"\n",
    "query_n_print(conn, query)"
   ]
  },
  {
   "cell_type": "code",
   "execution_count": 29,
   "id": "9dbc1e79-3e5f-4e51-ba04-b1a11af6a46b",
   "metadata": {},
   "outputs": [
    {
     "name": "stdout",
     "output_type": "stream",
     "text": [
      "выполнен запрос к БД: '\n",
      "CREATE OR REPLACE VIEW viewname005 AS\n",
      "SELECT rating, sum(rental_rate) OVER (ORDER BY rating) as sum_rental_rate_year\n",
      "FROM viewname003\n",
      "ORDER BY rating DESC\n",
      "' \n",
      "\n",
      "\n",
      " Выполнен запрос к БД - '\n",
      "SELECT rating, sum_rental_rate_year\n",
      "FROM viewname005\n",
      "GROUP BY rating, sum_rental_rate_year\n",
      "ORDER BY rating DESC\n",
      "' :\n",
      " --------------------------------------------------\n",
      "('NC-17', Decimal('151.54'))\n",
      "('R', Decimal('112.65'))\n",
      "('PG-13', Decimal('87.74'))\n",
      "('PG', Decimal('47.86'))\n",
      "('G', Decimal('31.90'))\n"
     ]
    }
   ],
   "source": [
    "#  Ддя получения общей суммы платы за прокат для фильмов длиннее 180 минут,\n",
    "# сначала формируется новое представление с новой колонкой суммы, \n",
    "# и затем по нему осуществляется группировка по рейтингу и сортировка\n",
    "query = \"\"\"\n",
    "CREATE OR REPLACE VIEW viewname005 AS\n",
    "SELECT rating, sum(rental_rate) OVER (ORDER BY rating) as sum_rental_rate_year\n",
    "FROM viewname003\n",
    "ORDER BY rating DESC\n",
    "\"\"\"\n",
    "query_set(conn, query)\n",
    "query = \"\"\"\n",
    "SELECT rating, sum_rental_rate_year\n",
    "FROM viewname005\n",
    "GROUP BY rating, sum_rental_rate_year\n",
    "ORDER BY rating DESC\n",
    "\"\"\"\n",
    "query_n_print(conn, query)"
   ]
  },
  {
   "cell_type": "raw",
   "id": "97b7fc0e-0e06-463a-9a81-83647da22351",
   "metadata": {},
   "source": [
    "# SQL-запрос с использованием подзапросов (subqueries) для выбора данных из нескольких таблиц.\n",
    "# для самого короткого фильма из таблицы film найти название его категории в таблице category"
   ]
  },
  {
   "cell_type": "code",
   "execution_count": 32,
   "id": "dcdae668-58eb-4164-8bb8-d32c01f8c69f",
   "metadata": {},
   "outputs": [
    {
     "name": "stdout",
     "output_type": "stream",
     "text": [
      "\n",
      " Выполнен запрос к БД - '\n",
      "SELECT name\n",
      "FROM category\n",
      "WHERE category_id =\n",
      "(SELECT category_id  FROM film_category WHERE film_id = \n",
      "(SELECT film_id FROM film WHERE length = \n",
      "(SELECT MIN(length) FROM film)\n",
      "LIMIT 1)\n",
      ")\n",
      "' :\n",
      " --------------------------------------------------\n",
      "('Foreign',)\n"
     ]
    }
   ],
   "source": [
    "query = \"\"\"\n",
    "SELECT name\n",
    "FROM category\n",
    "WHERE category_id =\n",
    "(SELECT category_id  FROM film_category WHERE film_id = \n",
    "(SELECT film_id FROM film WHERE length = \n",
    "(SELECT MIN(length) FROM film)\n",
    "LIMIT 1)\n",
    ")\n",
    "\"\"\"\n",
    "query_n_print(conn, query)"
   ]
  },
  {
   "cell_type": "code",
   "execution_count": 23,
   "id": "5451d53b-a7c5-46b3-8353-2f99cec1d9d8",
   "metadata": {},
   "outputs": [
    {
     "name": "stdout",
     "output_type": "stream",
     "text": [
      "-- программа завершена --\n"
     ]
    }
   ],
   "source": [
    "# закрытие подключения к БД\n",
    "conn.close()\n",
    "print(\"-- программа завершена --\")"
   ]
  }
 ],
 "metadata": {
  "kernelspec": {
   "display_name": "Python 3 (ipykernel)",
   "language": "python",
   "name": "python3"
  },
  "language_info": {
   "codemirror_mode": {
    "name": "ipython",
    "version": 3
   },
   "file_extension": ".py",
   "mimetype": "text/x-python",
   "name": "python",
   "nbconvert_exporter": "python",
   "pygments_lexer": "ipython3",
   "version": "3.11.7"
  }
 },
 "nbformat": 4,
 "nbformat_minor": 5
}
